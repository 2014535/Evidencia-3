{
  "nbformat": 4,
  "nbformat_minor": 0,
  "metadata": {
    "colab": {
      "provenance": []
    },
    "kernelspec": {
      "name": "python3",
      "display_name": "Python 3"
    },
    "language_info": {
      "name": "python"
    }
  },
  "cells": [
    {
      "cell_type": "code",
      "execution_count": 78,
      "metadata": {
        "colab": {
          "base_uri": "https://localhost:8080/"
        },
        "id": "3yHwj8pn8Sfo",
        "outputId": "5b68b71c-bfa7-44ea-f868-94971a2d2ebb"
      },
      "outputs": [
        {
          "output_type": "stream",
          "name": "stdout",
          "text": [
            "> Rojo\n",
            "\n",
            "> Amarillo\n",
            "\n",
            "> Verde\n",
            "\n",
            "> Morado\n",
            "\n",
            "> Celeste\n",
            "\n",
            "> Rosa\n",
            "\n",
            "> Morado\n",
            "\n",
            "> Celeste\n",
            "\n",
            "> Rosa\n",
            "\n"
          ]
        }
      ],
      "source": [
        "# Abro el archivo en modo lectura\n",
        "archivo=\"colores.txt\"\n",
        "f = open(archivo,\"r\")\n",
        "# Leo únicamente los primeros 5 caracteres del arvhivo.\n",
        "for linea in f:\n",
        " print(\">\", linea)\n",
        "# Cierro el archivo.\n",
        "f.close()\n"
      ]
    }
  ]
}