{
  "nbformat": 4,
  "nbformat_minor": 0,
  "metadata": {
    "colab": {
      "provenance": []
    },
    "kernelspec": {
      "name": "python3",
      "display_name": "Python 3"
    },
    "language_info": {
      "name": "python"
    }
  },
  "cells": [
    {
      "cell_type": "code",
      "execution_count": 107,
      "metadata": {
        "colab": {
          "base_uri": "https://localhost:8080/"
        },
        "id": "3yHwj8pn8Sfo",
        "outputId": "bc77dcca-9f5c-49f8-aa68-d1d687e265dd"
      },
      "outputs": [
        {
          "output_type": "stream",
          "name": "stdout",
          "text": [
            "[['correo', 'nombre', 'telefono'], ['juan@gmail.com', 'Juan', '8123232323'], ['maria@gmail.com', 'Maria', '5545454545'], ['diana@homail.com', 'Diana', '4490909090']]\n",
            "<class 'list'>\n",
            "True\n"
          ]
        }
      ],
      "source": [
        "# Importar los módulos para trabajar con pickle y con archivos\n",
        "import os\n",
        "import pickle\n",
        "\n",
        "\n",
        "# Muestra el contenido y el tipo del objeto Entradas, que es el\n",
        "# objeto que deseamos serializar y transportar.\n",
        "print(Entradas)\n",
        "print(type(Entradas))\n",
        "\n",
        "\n",
        "# Serializa Entradas, usando un archivo pickle llamado\n",
        "# Entradas.pickle. Recuerda que pickle es formato binario\n",
        "# por lo que el tipo de contenido debe ser binario, al escribir.\n",
        "# Utilza with, open() en modo Write Binary Extended, y dump(), para\n",
        "# el manejo de pickle con archivos.\n",
        "with open(\"Entradas.pickle\",\"wb+\") as f:\n",
        " pickle.dump(Entradas,f)\n",
        "\n",
        "# Revisa el archivo .pickle que se ha creado, y comprueba que es\n",
        "# binario.\n",
        "\n",
        "\n",
        "\n",
        "# Recupera el contenido del archivo Entradas.pickle, y asígnalo a una\n",
        "# lista llamada Recuperado. Recuerda que pickle es formato binario\n",
        "# por lo que el tipo de contenido debe ser binario, al leer.\n",
        "# Utilza with, open() en modo Read Binary, y load(), para\n",
        "# el manejo de pickle con archivos.\n",
        "with open(\"Entradas.pickle\",\"rb\") as f:\n",
        " Recuperado=pickle.load(f)\n",
        "\n",
        "\n",
        "\n",
        "# Compara el objeto Entradas con el objeto Recuperado\n",
        "# deben ser iguales.\n",
        "print(Entradas==Recuperado)"
      ]
    }
  ]
}