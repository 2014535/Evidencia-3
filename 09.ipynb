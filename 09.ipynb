{
  "nbformat": 4,
  "nbformat_minor": 0,
  "metadata": {
    "colab": {
      "provenance": []
    },
    "kernelspec": {
      "name": "python3",
      "display_name": "Python 3"
    },
    "language_info": {
      "name": "python"
    }
  },
  "cells": [
    {
      "cell_type": "code",
      "execution_count": 76,
      "metadata": {
        "colab": {
          "base_uri": "https://localhost:8080/"
        },
        "id": "3yHwj8pn8Sfo",
        "outputId": "472b4637-f361-49f5-a4a9-947c17014b70"
      },
      "outputs": [
        {
          "output_type": "stream",
          "name": "stdout",
          "text": [
            "Rojo\n",
            "\n",
            "Amari\n"
          ]
        }
      ],
      "source": [
        "# Abro el archivo en modo lectura\n",
        "archivo=\"colores.txt\"\n",
        "f = open(archivo,\"r\")\n",
        "# Leo únicamente los primeros 5 caracteres del archivo.\n",
        "contenido=f.read(5)\n",
        "# Muestro el contenido\n",
        "print(contenido)\n",
        "# Leo otros 5 caracteres del archivo.\n",
        "contenido=f.read(5)\n",
        "# Muestro el contenido\n",
        "print(contenido)\n",
        "# Cierro el archivo.\n",
        "f.close()"
      ]
    }
  ]
}