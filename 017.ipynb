{
  "nbformat": 4,
  "nbformat_minor": 0,
  "metadata": {
    "colab": {
      "provenance": []
    },
    "kernelspec": {
      "name": "python3",
      "display_name": "Python 3"
    },
    "language_info": {
      "name": "python"
    }
  },
  "cells": [
    {
      "cell_type": "code",
      "execution_count": 87,
      "metadata": {
        "colab": {
          "base_uri": "https://localhost:8080/",
          "height": 140
        },
        "id": "3yHwj8pn8Sfo",
        "outputId": "ede29d48-d5dd-4ac4-dbd6-35f5ced2b643"
      },
      "outputs": [
        {
          "output_type": "error",
          "ename": "IndentationError",
          "evalue": "ignored",
          "traceback": [
            "\u001b[0;36m  File \u001b[0;32m\"<ipython-input-87-032993943799>\"\u001b[0;36m, line \u001b[0;32m9\u001b[0m\n\u001b[0;31m    f.write(f\"{e[0]}|{e[1]}|{e[2]}\\n\")\u001b[0m\n\u001b[0m    ^\u001b[0m\n\u001b[0;31mIndentationError\u001b[0m\u001b[0;31m:\u001b[0m expected an indented block after 'for' statement on line 8\n"
          ]
        }
      ],
      "source": [
        "Entradas=[\n",
        " ['correo','nombre','telefono'],\n",
        " ['juan@gmail.com','Juan','8123232323'],\n",
        " ['maria@gmail.com','Maria','5545454545'],\n",
        " ['diana@homail.com','Diana','4490909090']\n",
        "]\n",
        "with open(\"agenda.csv\",\"w+\") as f:\n",
        " for e in Entradas:\n",
        " f.write(f\"{e[0]}|{e[1]}|{e[2]}\\n\")"
      ]
    }
  ]
}