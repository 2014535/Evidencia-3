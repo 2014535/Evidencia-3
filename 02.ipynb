{
  "nbformat": 4,
  "nbformat_minor": 0,
  "metadata": {
    "colab": {
      "provenance": []
    },
    "kernelspec": {
      "name": "python3",
      "display_name": "Python 3"
    },
    "language_info": {
      "name": "python"
    }
  },
  "cells": [
    {
      "cell_type": "code",
      "execution_count": 71,
      "metadata": {
        "colab": {
          "base_uri": "https://localhost:8080/"
        },
        "id": "3yHwj8pn8Sfo",
        "outputId": "4eb9b3af-4cb9-4214-a073-076ff9996fda"
      },
      "outputs": [
        {
          "output_type": "stream",
          "name": "stdout",
          "text": [
            "\n",
            "El archivo ya existe\n"
          ]
        }
      ],
      "source": [
        "# Se asume que el archivo colores.txt no existe en el\n",
        "# directorio de trabajo.\n",
        "archivo=\"colores.txt\"\n",
        "# Informa si el archivo existe o no existe.\n",
        "if os.path.exists(archivo):\n",
        " print(\"\\nEl archivo ya existe\")\n",
        "else:\n",
        " print(\"\\nEl archivo no existe\")"
      ]
    }
  ]
}