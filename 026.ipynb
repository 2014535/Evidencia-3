{
  "nbformat": 4,
  "nbformat_minor": 0,
  "metadata": {
    "colab": {
      "provenance": []
    },
    "kernelspec": {
      "name": "python3",
      "display_name": "Python 3"
    },
    "language_info": {
      "name": "python"
    }
  },
  "cells": [
    {
      "cell_type": "code",
      "execution_count": 97,
      "metadata": {
        "id": "3yHwj8pn8Sfo"
      },
      "outputs": [],
      "source": [
        "# Verifica si existen los archivos de respaldo, en cuyo\n",
        "# caso, se eliminan. Usa exists() y remove()\n",
        "\n",
        "if os.path.exists('agenda.csv.bak'):\n",
        " os.remove('agenda.csv.bak')\n",
        "if os.path.exists('agenda.json.bak'):\n",
        " os.remove('agenda.json.bak')\n",
        "\n",
        "# Verifica si existen los archivos de trabajo con datos, en cuyo\n",
        "# caso, se renombran a sus equivalentes de respaldo.\n",
        "# Usa exists() y rename()\n",
        "\n",
        "if os.path.exists('agenda.csv'):\n",
        "    os.rename('agenda.csv','agenda.csv.bak')\n",
        "if os.path.exists('agenda.json'):\n",
        "    os.rename('agenda.json','agenda.json.bak')\n",
        "\n",
        "# Este código no genera salidas.\n",
        "\n"
      ]
    }
  ]
}