{
  "nbformat": 4,
  "nbformat_minor": 0,
  "metadata": {
    "colab": {
      "provenance": []
    },
    "kernelspec": {
      "name": "python3",
      "display_name": "Python 3"
    },
    "language_info": {
      "name": "python"
    }
  },
  "cells": [
    {
      "cell_type": "code",
      "execution_count": 77,
      "metadata": {
        "colab": {
          "base_uri": "https://localhost:8080/"
        },
        "id": "3yHwj8pn8Sfo",
        "outputId": "c63a73c7-871b-42bf-83bf-2dcef8388903"
      },
      "outputs": [
        {
          "output_type": "stream",
          "name": "stdout",
          "text": [
            "Rojo\n",
            "\n",
            "Amarillo\n",
            "\n"
          ]
        }
      ],
      "source": [
        "# Abro el archivo en modo lectura\n",
        "archivo=\"colores.txt\"\n",
        "f = open(archivo,\"r\")\n",
        "# Leo únicamente la primer línea del archivo.\n",
        "contenido=f.readline()\n",
        "# Muestro el contenido\n",
        "print(contenido)\n",
        "# Leo siguiente línea\n",
        "contenido=f.readline()\n",
        "# Muestro el contenido\n",
        "print(contenido)\n",
        "# Cierro el archivo.\n",
        "f.close()"
      ]
    }
  ]
}