{
  "nbformat": 4,
  "nbformat_minor": 0,
  "metadata": {
    "colab": {
      "provenance": []
    },
    "kernelspec": {
      "name": "python3",
      "display_name": "Python 3"
    },
    "language_info": {
      "name": "python"
    }
  },
  "cells": [
    {
      "cell_type": "code",
      "execution_count": 93,
      "metadata": {
        "colab": {
          "base_uri": "https://localhost:8080/"
        },
        "id": "3yHwj8pn8Sfo",
        "outputId": "8faa8ede-9a19-46a2-d631-095d7a83b740"
      },
      "outputs": [
        {
          "output_type": "stream",
          "name": "stdout",
          "text": [
            "[['correo', 'nombre', 'telefono'], ['juan@gmail.com', 'Juan', '8123232323'], ['maria@gmail.com', 'Maria', '5545454545'], ['diana@homail.com', 'Diana', '4490909090']]\n",
            "\n",
            ">> Comprobando igualdad de objetos.\n",
            "\n",
            "True\n"
          ]
        }
      ],
      "source": [
        "# Grabando el pickle en un archivo.\n",
        "\n",
        "with open(\"archivo.pickle\",\"wb+\") as f:\n",
        "\n",
        " pickle.dump(Original,f)\n",
        "\n",
        "# Leyendo datos de un archivo pickle\n",
        "\n",
        "with open(\"archivo.pickle\",\"rb\") as f:\n",
        " recuperados=pickle.load(f)\n",
        "print(recuperados)\n",
        "print(\"\\n>> Comprobando igualdad de objetos.\\n\")\n",
        "print(Original==recuperados)"
      ]
    }
  ]
}