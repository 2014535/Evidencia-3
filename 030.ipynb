{
  "nbformat": 4,
  "nbformat_minor": 0,
  "metadata": {
    "colab": {
      "provenance": []
    },
    "kernelspec": {
      "name": "python3",
      "display_name": "Python 3"
    },
    "language_info": {
      "name": "python"
    }
  },
  "cells": [
    {
      "cell_type": "code",
      "execution_count": 102,
      "metadata": {
        "colab": {
          "base_uri": "https://localhost:8080/"
        },
        "id": "3yHwj8pn8Sfo",
        "outputId": "ad21c424-610f-434f-f713-fc148a478456"
      },
      "outputs": [
        {
          "output_type": "stream",
          "name": "stdout",
          "text": [
            "[\n",
            "    [\n",
            "        \"correo\",\n",
            "        \"nombre\",\n",
            "        \"telefono\"\n",
            "    ],\n",
            "    [\n",
            "        \"juan@gmail.com\",\n",
            "        \"Juan\",\n",
            "        \"8123232323\"\n",
            "    ],\n",
            "    [\n",
            "        \"maria@gmail.com\",\n",
            "        \"Maria\",\n",
            "        \"5545454545\"\n",
            "    ],\n",
            "    [\n",
            "        \"diana@homail.com\",\n",
            "        \"Diana\",\n",
            "        \"4490909090\"\n",
            "    ]\n",
            "]\n"
          ]
        }
      ],
      "source": [
        "# Importa la librería para el soporte JSON\n",
        "\n",
        "import json\n",
        "\n",
        "# Almacena en una variable llamada datos_json, que almacene\n",
        "# un volcado de datos. Utiliza dumps().\n",
        "# Proporciona formato con identación a 4 posiciones.\n",
        "\n",
        "datos_json=json.dumps(Contactos,indent=4)\n",
        "\n",
        "# Muestra el contenido serializado.\n",
        "print(datos_json)"
      ]
    }
  ]
}