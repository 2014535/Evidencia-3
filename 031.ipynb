{
  "nbformat": 4,
  "nbformat_minor": 0,
  "metadata": {
    "colab": {
      "provenance": []
    },
    "kernelspec": {
      "name": "python3",
      "display_name": "Python 3"
    },
    "language_info": {
      "name": "python"
    }
  },
  "cells": [
    {
      "cell_type": "code",
      "execution_count": 106,
      "metadata": {
        "colab": {
          "base_uri": "https://localhost:8080/"
        },
        "id": "3yHwj8pn8Sfo",
        "outputId": "a8082e57-fdb4-4734-af87-67a13ec4b916"
      },
      "outputs": [
        {
          "output_type": "stream",
          "name": "stdout",
          "text": [
            "[['correo', 'nombre', 'telefono'], ['juan@gmail.com', 'Juan', '8123232323'], ['maria@gmail.com', 'Maria', '5545454545'], ['diana@homail.com', 'Diana', '4490909090']]\n",
            "<class 'list'>\n",
            "True\n"
          ]
        }
      ],
      "source": [
        "# Guarda la serialización en un archivo como agenda.json.\n",
        "# Utiliza open() en modo Write Extended.\n",
        "# Usa f como apuntador de archivo.\n",
        "f = open('agenda.json','w+')\n",
        "f.write(datos_json)\n",
        "f.close()\n",
        "# Este código no genera salidas.\n"
      ]
    }
  ]
}