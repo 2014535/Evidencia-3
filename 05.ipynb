{
  "nbformat": 4,
  "nbformat_minor": 0,
  "metadata": {
    "colab": {
      "provenance": []
    },
    "kernelspec": {
      "name": "python3",
      "display_name": "Python 3"
    },
    "language_info": {
      "name": "python"
    }
  },
  "cells": [
    {
      "cell_type": "code",
      "execution_count": 73,
      "metadata": {
        "id": "3yHwj8pn8Sfo"
      },
      "outputs": [],
      "source": [
        "# Abro el archivo en modo Write Extended.\n",
        "# Si el archivo no existe, lo genera. Si existe, lo remplaza.\n",
        "# Los contenidos van en secuencia.\n",
        "archivo=\"colores.txt\"\n",
        "f = open(archivo,\"w+\")\n",
        "# Escribo 4 contenidos en secuencia.\n",
        "f.write(\"Blanco\")\n",
        "f.write(\"Negro\")\n",
        "f.write(\"Naranja\")\n",
        "# Cierro el archivo.\n",
        "f.close()\n"
      ]
    }
  ]
}