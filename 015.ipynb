{
  "nbformat": 4,
  "nbformat_minor": 0,
  "metadata": {
    "colab": {
      "provenance": []
    },
    "kernelspec": {
      "name": "python3",
      "display_name": "Python 3"
    },
    "language_info": {
      "name": "python"
    }
  },
  "cells": [
    {
      "cell_type": "code",
      "execution_count": 84,
      "metadata": {
        "colab": {
          "base_uri": "https://localhost:8080/"
        },
        "id": "3yHwj8pn8Sfo",
        "outputId": "b8dd44e1-2880-41f4-9d20-387abd14abdd"
      },
      "outputs": [
        {
          "output_type": "stream",
          "name": "stdout",
          "text": [
            "correo|nombre|telefono\n",
            "juan@gmail.com|Juan|8123232323\n",
            "maria@gmail.com|Maria|5545454545\n",
            "diana@homail.com|Diana|4490909090\n"
          ]
        }
      ],
      "source": [
        "# Datos iniciales. Entradas es una lista que contiene listas.\n",
        "Entradas=[\n",
        " ['correo','nombre','telefono'],\n",
        " ['juan@gmail.com','Juan','8123232323'],\n",
        " ['maria@gmail.com','Maria','5545454545'],\n",
        " ['diana@homail.com','Diana','4490909090']\n",
        "]\n",
        "for e in Entradas:\n",
        " print(f'{e[0]}|{e[1]}|{e[2]}')\n"
      ]
    }
  ]
}