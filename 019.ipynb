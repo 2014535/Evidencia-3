{
  "nbformat": 4,
  "nbformat_minor": 0,
  "metadata": {
    "colab": {
      "provenance": []
    },
    "kernelspec": {
      "name": "python3",
      "display_name": "Python 3"
    },
    "language_info": {
      "name": "python"
    }
  },
  "cells": [
    {
      "cell_type": "code",
      "execution_count": 89,
      "metadata": {
        "colab": {
          "base_uri": "https://localhost:8080/",
          "height": 140
        },
        "id": "3yHwj8pn8Sfo",
        "outputId": "e8ce1e0a-acfd-4253-fd7b-b018a1173e7c"
      },
      "outputs": [
        {
          "output_type": "error",
          "ename": "IndentationError",
          "evalue": "ignored",
          "traceback": [
            "\u001b[0;36m  File \u001b[0;32m\"<ipython-input-89-73c6356bdde4>\"\u001b[0;36m, line \u001b[0;32m4\u001b[0m\n\u001b[0;31m    lista=linea.split(\"|\")\u001b[0m\n\u001b[0m    ^\u001b[0m\n\u001b[0;31mIndentationError\u001b[0m\u001b[0;31m:\u001b[0m expected an indented block after 'for' statement on line 3\n"
          ]
        }
      ],
      "source": [
        "Datos=[]\n",
        "with open(\"agenda.csv\",\"r+\") as f:\n",
        " for linea in f:\n",
        " lista=linea.split(\"|\")\n",
        " lista[2]=lista[2].replace(\"\\n\",\"\")\n",
        " Datos.append(lista)"
      ]
    }
  ]
}