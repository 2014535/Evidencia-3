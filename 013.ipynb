{
  "nbformat": 4,
  "nbformat_minor": 0,
  "metadata": {
    "colab": {
      "provenance": []
    },
    "kernelspec": {
      "name": "python3",
      "display_name": "Python 3"
    },
    "language_info": {
      "name": "python"
    }
  },
  "cells": [
    {
      "cell_type": "code",
      "execution_count": 80,
      "metadata": {
        "colab": {
          "base_uri": "https://localhost:8080/"
        },
        "id": "3yHwj8pn8Sfo",
        "outputId": "43141e1c-1822-42c7-978f-ded10efe8454"
      },
      "outputs": [
        {
          "output_type": "stream",
          "name": "stdout",
          "text": [
            "Rojo\n",
            "Amarillo\n",
            "Verde\n",
            "Morado\n",
            "Celeste\n",
            "Rosa\n",
            "Morado\n",
            "Celeste\n",
            "Rosa\n",
            "\n",
            "¿Archivo cerrado? True\n"
          ]
        }
      ],
      "source": [
        "with open(\"colores.txt\",\"r\") as f:\n",
        " contenido=f.read()\n",
        " print(contenido)\n",
        "# Comprobando que, aunque no se aplicó close(), el archivo\n",
        "# está cerrado.\n",
        "print(\"¿Archivo cerrado?\",f.closed)\n"
      ]
    }
  ]
}