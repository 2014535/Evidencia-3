{
  "nbformat": 4,
  "nbformat_minor": 0,
  "metadata": {
    "colab": {
      "provenance": []
    },
    "kernelspec": {
      "name": "python3",
      "display_name": "Python 3"
    },
    "language_info": {
      "name": "python"
    }
  },
  "cells": [
    {
      "cell_type": "code",
      "execution_count": 74,
      "metadata": {
        "id": "3yHwj8pn8Sfo"
      },
      "outputs": [],
      "source": [
        "# Para saltos de línea, se utiliza \\n\n",
        "# Abro el archivo en modo Write Extended\n",
        "archivo=\"colores.txt\"\n",
        "f = open(archivo,\"w+\")\n",
        "# Escribo 4 líneas adicionales.\n",
        "f.write(\"Rojo\\n\")\n",
        "f.write(\"Amarillo\\n\")\n",
        "f.write(\"Verde\\n\")\n",
        "# Agregando los elementos de un iterable\n",
        "mas_colores=[\"Morado\\n\",\"Celeste\\n\",\"Rosa\\n\"]\n",
        "f.writelines(mas_colores)\n",
        "# Cierro el archivo.\n",
        "f.close()"
      ]
    }
  ]
}