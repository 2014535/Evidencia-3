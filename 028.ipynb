{
  "nbformat": 4,
  "nbformat_minor": 0,
  "metadata": {
    "colab": {
      "provenance": []
    },
    "kernelspec": {
      "name": "python3",
      "display_name": "Python 3"
    },
    "language_info": {
      "name": "python"
    }
  },
  "cells": [
    {
      "cell_type": "code",
      "execution_count": 100,
      "metadata": {
        "colab": {
          "base_uri": "https://localhost:8080/"
        },
        "id": "3yHwj8pn8Sfo",
        "outputId": "a0887048-0d19-401a-a6cc-55e823d4076c"
      },
      "outputs": [
        {
          "output_type": "stream",
          "name": "stdout",
          "text": [
            "correo|nombre|telefono\n",
            "juan@gmail.com|Juan|8123232323\n",
            "maria@gmail.com|Maria|5545454545\n",
            "diana@homail.com|Diana|4490909090\n",
            "\n"
          ]
        }
      ],
      "source": [
        "# Abre el archivo de datos CSV, en modo de solo lectura.\n",
        "# Usa f como apuntador de archivo. Usa open() en modo r.\n",
        "f=open('agenda.csv','r')\n",
        "# Lee el contenido del archivo y colócalo en una variable\n",
        "# llamada contenido. Utiliza read().\n",
        "contenido=f.read()\n",
        "# Cierra el archivo. Utiliza close()\n",
        "f.close()\n",
        "# Muestra el contenido del archivo, que ya tienes en una variable.\n",
        "print(contenido)\n"
      ]
    }
  ]
}