{
  "nbformat": 4,
  "nbformat_minor": 0,
  "metadata": {
    "colab": {
      "provenance": []
    },
    "kernelspec": {
      "name": "python3",
      "display_name": "Python 3"
    },
    "language_info": {
      "name": "python"
    }
  },
  "cells": [
    {
      "cell_type": "code",
      "execution_count": 91,
      "metadata": {
        "colab": {
          "base_uri": "https://localhost:8080/"
        },
        "id": "3yHwj8pn8Sfo",
        "outputId": "3c3b3145-f1d3-4732-8d02-1329b9b3956c"
      },
      "outputs": [
        {
          "output_type": "stream",
          "name": "stdout",
          "text": [
            "[['correo', 'nombre', 'telefono'], ['juan@gmail.com', 'Juan', '8123232323'], ['maria@gmail.com', 'Maria', '5545454545'], ['diana@homail.com', 'Diana', '4490909090']]\n",
            "\n",
            ">> Comprobando igualdad de objetos.\n",
            "\n",
            "True\n"
          ]
        }
      ],
      "source": [
        "# Grabando el JSON en un archivo.\n",
        "with open(\"archivo.json\",\"w+\") as f:\n",
        " json.dump(Original,f,indent=4)\n",
        "# Leyendo datos de un archivo json\n",
        "with open(\"archivo.json\",\"r\") as f:\n",
        " recuperados=json.load(f)\n",
        "print(recuperados)\n",
        "print(\"\\n>> Comprobando igualdad de objetos.\\n\")\n",
        "print(Original==recuperados)"
      ]
    }
  ]
}