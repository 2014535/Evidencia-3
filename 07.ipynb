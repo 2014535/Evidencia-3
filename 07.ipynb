{
  "nbformat": 4,
  "nbformat_minor": 0,
  "metadata": {
    "colab": {
      "provenance": []
    },
    "kernelspec": {
      "name": "python3",
      "display_name": "Python 3"
    },
    "language_info": {
      "name": "python"
    }
  },
  "cells": [
    {
      "cell_type": "code",
      "execution_count": 75,
      "metadata": {
        "id": "3yHwj8pn8Sfo"
      },
      "outputs": [],
      "source": [
        "archivo=\"colores.txt\"\n",
        "f = open(archivo,\"a+\")\n",
        "# Agregando los elementos de un iterable\n",
        "mas_colores=[\"Morado\\n\",\"Celeste\\n\",\"Rosa\\n\"]\n",
        "f.writelines(mas_colores)\n",
        "# Cierro el archivo.\n",
        "f.close()\n"
      ]
    }
  ]
}