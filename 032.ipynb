{
  "nbformat": 4,
  "nbformat_minor": 0,
  "metadata": {
    "colab": {
      "provenance": []
    },
    "kernelspec": {
      "name": "python3",
      "display_name": "Python 3"
    },
    "language_info": {
      "name": "python"
    }
  },
  "cells": [
    {
      "cell_type": "code",
      "execution_count": 106,
      "metadata": {
        "colab": {
          "base_uri": "https://localhost:8080/"
        },
        "id": "3yHwj8pn8Sfo",
        "outputId": "a8082e57-fdb4-4734-af87-67a13ec4b916"
      },
      "outputs": [
        {
          "output_type": "stream",
          "name": "stdout",
          "text": [
            "[['correo', 'nombre', 'telefono'], ['juan@gmail.com', 'Juan', '8123232323'], ['maria@gmail.com', 'Maria', '5545454545'], ['diana@homail.com', 'Diana', '4490909090']]\n",
            "<class 'list'>\n",
            "True\n"
          ]
        }
      ],
      "source": [
        "# Abrir el archivo de datos JSON, en modo de solo lectura.\n",
        "# usa open(), en modo r. Usa el apuntador de archivo f.\n",
        "f = open('agenda.json','r')\n",
        "# Carga el contenido JSON en una lista. Usa loads() y read().\n",
        "# Almacena la lectura en una variable llamada Contactos_JSON.\n",
        "Contactos_JSON=json.loads(f.read())\n",
        "# Imprime Entradas, Contactos y Contactos JSON.\n",
        "# Comprueba que son iguales.\n",
        "print(Entradas)\n",
        "print(Contactos)\n",
        "print(Contactos_JSON)"
      ]
    }
  ]
}