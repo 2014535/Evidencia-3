{
  "nbformat": 4,
  "nbformat_minor": 0,
  "metadata": {
    "colab": {
      "provenance": []
    },
    "kernelspec": {
      "name": "python3",
      "display_name": "Python 3"
    },
    "language_info": {
      "name": "python"
    }
  },
  "cells": [
    {
      "cell_type": "code",
      "execution_count": 95,
      "metadata": {
        "colab": {
          "base_uri": "https://localhost:8080/"
        },
        "id": "3yHwj8pn8Sfo",
        "outputId": "5db1641f-a72f-4d33-91c5-2d70f4710e0c"
      },
      "outputs": [
        {
          "output_type": "stream",
          "name": "stdout",
          "text": [
            "/content\n"
          ]
        }
      ],
      "source": [
        "# Importar el módulo requerido para el manejo de archivos.\n",
        "import os\n",
        "# Muestra el directorio actual de trabajo. Utiliza getcwd()\n",
        "print(os.getcwd())"
      ]
    }
  ]
}