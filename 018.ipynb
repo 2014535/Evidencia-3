{
  "nbformat": 4,
  "nbformat_minor": 0,
  "metadata": {
    "colab": {
      "provenance": []
    },
    "kernelspec": {
      "name": "python3",
      "display_name": "Python 3"
    },
    "language_info": {
      "name": "python"
    }
  },
  "cells": [
    {
      "cell_type": "code",
      "execution_count": 88,
      "metadata": {
        "colab": {
          "base_uri": "https://localhost:8080/",
          "height": 140
        },
        "id": "3yHwj8pn8Sfo",
        "outputId": "9589a79d-2099-46b3-a32d-e3537f6f93a3"
      },
      "outputs": [
        {
          "output_type": "error",
          "ename": "IndentationError",
          "evalue": "ignored",
          "traceback": [
            "\u001b[0;36m  File \u001b[0;32m\"<ipython-input-88-0fbf47448cc8>\"\u001b[0;36m, line \u001b[0;32m17\u001b[0m\n\u001b[0;31m    lista=linea.split(\"|\")\u001b[0m\n\u001b[0m    ^\u001b[0m\n\u001b[0;31mIndentationError\u001b[0m\u001b[0;31m:\u001b[0m expected an indented block after 'for' statement on line 11\n"
          ]
        }
      ],
      "source": [
        "# Se crea una lista vacía.\n",
        "Datos=[]\n",
        "\n",
        "# Se lee el archivo de forma secuencial, y se agregan los elementos\n",
        "# a la lista.\n",
        "\n",
        "with open(\"agenda.csv\",\"r\") as f:\n",
        "\n",
        " # Se lee secuencialmente el archivo de texto.\n",
        "\n",
        " for linea in f:\n",
        "\n",
        " # Se toma el texto de la línea leída, y se divide tomando como separador\n",
        " # el caracter pipe. La función retorna una lista, donde cada parte del\n",
        " # texto es un elemento.\n",
        "\n",
        " lista=linea.split(\"|\")\n",
        "\n",
        " # El último elemento contiene \\n como salto de linea. Se remplaza por nada.\n",
        "\n",
        " lista[2]=lista[2].replace(\"\\n\",\"\")\n",
        "\n",
        " Datos.append(lista)\n",
        "\n",
        "# Se revisa el contenido de la lista\n",
        "\n",
        "print(\">> Contenido de la nueva lista.\\n\")\n",
        "print(Datos)"
      ]
    }
  ]
}