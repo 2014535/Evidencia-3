{
  "nbformat": 4,
  "nbformat_minor": 0,
  "metadata": {
    "colab": {
      "provenance": []
    },
    "kernelspec": {
      "name": "python3",
      "display_name": "Python 3"
    },
    "language_info": {
      "name": "python"
    }
  },
  "cells": [
    {
      "cell_type": "code",
      "execution_count": 92,
      "metadata": {
        "colab": {
          "base_uri": "https://localhost:8080/"
        },
        "id": "3yHwj8pn8Sfo",
        "outputId": "ec80531c-c3a3-4678-8fb1-09a7d13b540a"
      },
      "outputs": [
        {
          "output_type": "stream",
          "name": "stdout",
          "text": [
            "\n",
            ">> Serialización a Pickle.\n",
            "\n",
            "b'\\x80\\x04\\x95\\xa6\\x00\\x00\\x00\\x00\\x00\\x00\\x00]\\x94(]\\x94(\\x8c\\x06correo\\x94\\x8c\\x06nombre\\x94\\x8c\\x08telefono\\x94e]\\x94(\\x8c\\x0ejuan@gmail.com\\x94\\x8c\\x04Juan\\x94\\x8c\\n8123232323\\x94e]\\x94(\\x8c\\x0fmaria@gmail.com\\x94\\x8c\\x05Maria\\x94\\x8c\\n5545454545\\x94e]\\x94(\\x8c\\x10diana@homail.com\\x94\\x8c\\x05Diana\\x94\\x8c\\n4490909090\\x94ee.'\n",
            "\n",
            ">> Deserialización desde Pickle.\n",
            "\n",
            "[['correo', 'nombre', 'telefono'], ['juan@gmail.com', 'Juan', '8123232323'], ['maria@gmail.com', 'Maria', '5545454545'], ['diana@homail.com', 'Diana', '4490909090']]\n",
            "<class 'list'>\n",
            "\n",
            ">> Comprobando igualdad de objetos.\n",
            "\n",
            "True\n"
          ]
        }
      ],
      "source": [
        "# Se importa el módulo para trabajar con JSON.\n",
        "\n",
        "import pickle\n",
        "\n",
        "# Observa cómo pickle es un formato binario.\n",
        "\n",
        "print(\"\\n>> Serialización a Pickle.\\n\")\n",
        "Original_pickle=pickle.dumps(Original)\n",
        "print(Original_pickle)\n",
        "print(\"\\n>> Deserialización desde Pickle.\\n\")\n",
        "Nueva_Lista=pickle.loads(Original_pickle)\n",
        "print(Nueva_Lista)\n",
        "print(type(Nueva_Lista))\n",
        "print(\"\\n>> Comprobando igualdad de objetos.\\n\")\n",
        "print(Original==Nueva_Lista)"
      ]
    }
  ]
}