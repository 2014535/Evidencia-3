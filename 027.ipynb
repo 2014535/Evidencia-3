{
  "nbformat": 4,
  "nbformat_minor": 0,
  "metadata": {
    "colab": {
      "provenance": []
    },
    "kernelspec": {
      "name": "python3",
      "display_name": "Python 3"
    },
    "language_info": {
      "name": "python"
    }
  },
  "cells": [
    {
      "cell_type": "code",
      "execution_count": 99,
      "metadata": {
        "id": "3yHwj8pn8Sfo"
      },
      "outputs": [],
      "source": [
        "# Abrir el archivo de datos CSV como Write Extended.\n",
        "# Usar como apuntador de archivo \"f\".\n",
        "# usa open() y el modo w+\n",
        "\n",
        "f = open('agenda.csv','w+')\n",
        "\n",
        "# Escribir los datos de la lista, como datos del CSV\n",
        "# Usa for para leer la lista secuencialmente.\n",
        "# Apóyate en F-String para el formato.\n",
        "# No olvides el salto de línea.\n",
        "\n",
        "for e in Entradas:\n",
        "\n",
        " f.write(f'{e[0]}|{e[1]}|{e[2]}\\n')\n",
        "\n",
        "# No olvides cerrar el archivo\n",
        "\n",
        "f.close()\n",
        "\n",
        "# Comprueba en tu directorio de trabajo, si ya existe el\n",
        "# archivo de datos CSV.\n",
        "# Este código no genera salidas.\n",
        "\n"
      ]
    }
  ]
}