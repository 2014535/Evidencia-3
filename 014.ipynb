{
  "nbformat": 4,
  "nbformat_minor": 0,
  "metadata": {
    "colab": {
      "provenance": []
    },
    "kernelspec": {
      "name": "python3",
      "display_name": "Python 3"
    },
    "language_info": {
      "name": "python"
    }
  },
  "cells": [
    {
      "cell_type": "code",
      "execution_count": 83,
      "metadata": {
        "colab": {
          "base_uri": "https://localhost:8080/",
          "height": 140
        },
        "id": "3yHwj8pn8Sfo",
        "outputId": "9526e79a-3975-4a4a-d3a5-e4a39272c2df"
      },
      "outputs": [
        {
          "output_type": "error",
          "ename": "IndentationError",
          "evalue": "ignored",
          "traceback": [
            "\u001b[0;36m  File \u001b[0;32m\"<tokenize>\"\u001b[0;36m, line \u001b[0;32m10\u001b[0m\n\u001b[0;31m    for linea in f:\u001b[0m\n\u001b[0m    ^\u001b[0m\n\u001b[0;31mIndentationError\u001b[0m\u001b[0;31m:\u001b[0m unindent does not match any outer indentation level\n"
          ]
        }
      ],
      "source": [
        "# Lista a escribir en un archivo.\n",
        "marcas=[\"Audi\\n\",\"Alfa Romeo\\n\",\"BMW\\n\",\"Mercedes Benz\\n\"]\n",
        "# Se abre en modo Write Extended, que permite lectura.\n",
        "with open(\"marcas.txt\",\"w+\") as f:\n",
        "    # Escribe cada elemento de la lista como una línea\n",
        "    f.writelines(marcas)\n",
        "    # Se va al inicio del archivo.\n",
        "    f.seek(0,0)\n",
        "    # Lee secuencialmente el archivo, desde el inicio.\n",
        " for linea in f:\n",
        "     print(linea)\n",
        "\n"
      ]
    }
  ]
}