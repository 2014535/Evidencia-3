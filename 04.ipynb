{
  "nbformat": 4,
  "nbformat_minor": 0,
  "metadata": {
    "colab": {
      "provenance": []
    },
    "kernelspec": {
      "name": "python3",
      "display_name": "Python 3"
    },
    "language_info": {
      "name": "python"
    }
  },
  "cells": [
    {
      "cell_type": "code",
      "execution_count": 72,
      "metadata": {
        "colab": {
          "base_uri": "https://localhost:8080/"
        },
        "id": "3yHwj8pn8Sfo",
        "outputId": "9fab8ac9-b13c-436e-d18e-6a6ad5fe67fb"
      },
      "outputs": [
        {
          "output_type": "stream",
          "name": "stdout",
          "text": [
            "\n",
            "El archivo ya existe\n"
          ]
        }
      ],
      "source": [
        "# Se abre un archivo en modo Append Extended (a+). Si el archivo no\n",
        "# existe, lo crea, con capacidad de lectura y escrituta. El\n",
        "# apuntador de escritura se coloca al final del archivo.\n",
        "archivo=\"colores.txt\"\n",
        "f = open(archivo,\"a+\")\n",
        "# Verificación de que ya se creo.\n",
        "if os.path.exists(archivo):\n",
        " print(\"\\nEl archivo ya existe\")\n",
        "else:\n",
        " print(\"\\nEl archivo no existe\")\n",
        "# Se cierra el archivo.\n",
        "f.close()"
      ]
    }
  ]
}