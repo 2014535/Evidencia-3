{
  "nbformat": 4,
  "nbformat_minor": 0,
  "metadata": {
    "colab": {
      "provenance": []
    },
    "kernelspec": {
      "name": "python3",
      "display_name": "Python 3"
    },
    "language_info": {
      "name": "python"
    }
  },
  "cells": [
    {
      "cell_type": "code",
      "execution_count": 101,
      "metadata": {
        "colab": {
          "base_uri": "https://localhost:8080/"
        },
        "id": "3yHwj8pn8Sfo",
        "outputId": "ef3f0765-e026-4f5a-c431-2fb8bd92a9ba"
      },
      "outputs": [
        {
          "output_type": "stream",
          "name": "stdout",
          "text": [
            "['correo', 'nombre', 'telefono\\n']\n",
            "['juan@gmail.com', 'Juan', '8123232323\\n']\n",
            "['maria@gmail.com', 'Maria', '5545454545\\n']\n",
            "['diana@homail.com', 'Diana', '4490909090\\n']\n",
            "[['correo', 'nombre', 'telefono'], ['juan@gmail.com', 'Juan', '8123232323'], ['maria@gmail.com', 'Maria', '5545454545'], ['diana@homail.com', 'Diana', '4490909090']]\n",
            "[['correo', 'nombre', 'telefono'], ['juan@gmail.com', 'Juan', '8123232323'], ['maria@gmail.com', 'Maria', '5545454545'], ['diana@homail.com', 'Diana', '4490909090']]\n"
          ]
        }
      ],
      "source": [
        "# Se genera una lista vacía llamada Contactos\n",
        "Contactos=[]\n",
        "# Abrir el archivo de datos CSV, en modo de solo lectura.\n",
        "# usa open, en modo r.\n",
        "f = open('agenda.csv','r')\n",
        "# Elabora un ciclo for, que coloque en una variable llamada\n",
        "# linea a cada una de las líneas en el archivo apuntado\n",
        "# como f. Recuerda que leer un archivo plano con for equivale\n",
        "# a leerlo línea por línea.\n",
        "for linea in f:\n",
        " # Asigna a una variable llamada lista_datos, el equivalente\n",
        " # en lista del contenido de datos, usando como separador\n",
        " # el pipe line. Usa split(), con \"|\" como delimitador.\n",
        " lista_datos=linea.split('|')\n",
        " print(lista_datos)\n",
        " # Elimina el salto de línea del último elemento de la lista\n",
        " lista_datos[2]=lista_datos[2].replace(\"\\n\",\"\")\n",
        " # Agrega la lista de datos contenida en lista_datos\n",
        " # a la lista Contactos\n",
        " Contactos.append(lista_datos)\n",
        "# Cerrar archivo\n",
        "f.close()\n",
        "# Imprime Entradas y Contactos, y comprueba que son iguales\n",
        "print(Entradas)\n",
        "print(Contactos)"
      ]
    }
  ]
}