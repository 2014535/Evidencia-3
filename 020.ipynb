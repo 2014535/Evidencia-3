{
  "nbformat": 4,
  "nbformat_minor": 0,
  "metadata": {
    "colab": {
      "provenance": []
    },
    "kernelspec": {
      "name": "python3",
      "display_name": "Python 3"
    },
    "language_info": {
      "name": "python"
    }
  },
  "cells": [
    {
      "cell_type": "code",
      "execution_count": 90,
      "metadata": {
        "colab": {
          "base_uri": "https://localhost:8080/"
        },
        "id": "3yHwj8pn8Sfo",
        "outputId": "25d3b06d-3e34-431e-a18a-af2b1f841833"
      },
      "outputs": [
        {
          "output_type": "stream",
          "name": "stdout",
          "text": [
            ">> Tipo del objeto.\n",
            "\n",
            "<class 'list'>\n",
            "\n",
            ">> Contenido del objeto.\n",
            "\n",
            "[['correo', 'nombre', 'telefono'], ['juan@gmail.com', 'Juan', '8123232323'], ['maria@gmail.com', 'Maria', '5545454545'], ['diana@homail.com', 'Diana', '4490909090']]\n",
            "\n",
            ">> Serialización a JSON.\n",
            "\n",
            "[\n",
            "    [\n",
            "        \"correo\",\n",
            "        \"nombre\",\n",
            "        \"telefono\"\n",
            "    ],\n",
            "    [\n",
            "        \"juan@gmail.com\",\n",
            "        \"Juan\",\n",
            "        \"8123232323\"\n",
            "    ],\n",
            "    [\n",
            "        \"maria@gmail.com\",\n",
            "        \"Maria\",\n",
            "        \"5545454545\"\n",
            "    ],\n",
            "    [\n",
            "        \"diana@homail.com\",\n",
            "        \"Diana\",\n",
            "        \"4490909090\"\n",
            "    ]\n",
            "]\n",
            "\n",
            ">> Deserialización desde JSON.\n",
            "\n",
            "[['correo', 'nombre', 'telefono'], ['juan@gmail.com', 'Juan', '8123232323'], ['maria@gmail.com', 'Maria', '5545454545'], ['diana@homail.com', 'Diana', '4490909090']]\n",
            "<class 'list'>\n",
            "\n",
            ">> Comprobando igualdad de objetos.\n",
            "\n",
            "True\n"
          ]
        }
      ],
      "source": [
        "# Se importa el módulo para trabajar con JSON.\n",
        "\n",
        "import json\n",
        "\n",
        "# Se crea un objeto de muestra, para serializar.\n",
        "\n",
        "Original=[\n",
        " ['correo','nombre','telefono'],\n",
        " ['juan@gmail.com','Juan','8123232323'],\n",
        " ['maria@gmail.com','Maria','5545454545'],\n",
        " ['diana@homail.com','Diana','4490909090']\n",
        "]\n",
        "\n",
        "print(\">> Tipo del objeto.\\n\")\n",
        "print(type(Original))\n",
        "print(\"\\n>> Contenido del objeto.\\n\")\n",
        "print(Original)\n",
        "print(\"\\n>> Serialización a JSON.\\n\")\n",
        "Original_JSON=json.dumps(Original,indent=4)\n",
        "print(Original_JSON)\n",
        "print(\"\\n>> Deserialización desde JSON.\\n\")\n",
        "Nueva_Lista=json.loads(Original_JSON)\n",
        "print(Nueva_Lista)\n",
        "print(type(Nueva_Lista))\n",
        "print(\"\\n>> Comprobando igualdad de objetos.\\n\")\n",
        "print(Original==Nueva_Lista)"
      ]
    }
  ]
}