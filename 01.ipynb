{
  "nbformat": 4,
  "nbformat_minor": 0,
  "metadata": {
    "colab": {
      "provenance": []
    },
    "kernelspec": {
      "name": "python3",
      "display_name": "Python 3"
    },
    "language_info": {
      "name": "python"
    }
  },
  "cells": [
    {
      "cell_type": "code",
      "execution_count": 70,
      "metadata": {
        "colab": {
          "base_uri": "https://localhost:8080/"
        },
        "id": "3yHwj8pn8Sfo",
        "outputId": "76b217e4-8501-445d-92a7-5f59daa568ae"
      },
      "outputs": [
        {
          "output_type": "stream",
          "name": "stdout",
          "text": [
            "/content\n",
            "/content\n"
          ]
        }
      ],
      "source": [
        "# Se hablilita el trabajo con el sistema operativo\n",
        "import os\n",
        "# Obtener la ruta de trabajo actual\n",
        "# (Current Working Directory)\n",
        "ruta=os.getcwd()\n",
        "print(ruta)\n",
        "# Obtiene el valor absoluto de la ruta\n",
        "ruta_absoluta=os.path.abspath(ruta)\n",
        "print(ruta_absoluta)"
      ]
    }
  ]
}