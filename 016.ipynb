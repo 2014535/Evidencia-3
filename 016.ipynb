{
  "nbformat": 4,
  "nbformat_minor": 0,
  "metadata": {
    "colab": {
      "provenance": []
    },
    "kernelspec": {
      "name": "python3",
      "display_name": "Python 3"
    },
    "language_info": {
      "name": "python"
    }
  },
  "cells": [
    {
      "cell_type": "code",
      "execution_count": 86,
      "metadata": {
        "colab": {
          "base_uri": "https://localhost:8080/",
          "height": 140
        },
        "id": "3yHwj8pn8Sfo",
        "outputId": "aa01c7e8-481d-4295-a542-648fb20846d1"
      },
      "outputs": [
        {
          "output_type": "error",
          "ename": "IndentationError",
          "evalue": "ignored",
          "traceback": [
            "\u001b[0;36m  File \u001b[0;32m\"<ipython-input-86-503e6db5272c>\"\u001b[0;36m, line \u001b[0;32m11\u001b[0m\n\u001b[0;31m    os.remove(\"agenda.bak\")\u001b[0m\n\u001b[0m    ^\u001b[0m\n\u001b[0;31mIndentationError\u001b[0m\u001b[0;31m:\u001b[0m expected an indented block after 'if' statement on line 10\n"
          ]
        }
      ],
      "source": [
        "# Se imprime el contenido de la lista, para cotejar.\n",
        "print(\">> Contenido de la lista.\\n\")\n",
        "print(Entradas)\n",
        "\n",
        "# Revisa si existe el CSV, en cuyo caso, si existe el BAK lo elimina\n",
        "# y renombra el CSV como BAK\n",
        "\n",
        "if os.path.exists(\"agenda.csv\"):\n",
        "\n",
        "    if (os.path.exists(\"agenda.bak\")):\n",
        "    os.remove(\"agenda.bak\")\n",
        "    os.rename(\"agenda.csv\",\"agenda.bak\")\n",
        "\n",
        "# Se escribe el contenido de la lista, usando with y F-String\n",
        "\n",
        "with open(\"agenda.csv\",\"w+\") as f:\n",
        " for e in Entradas:\n",
        "\n",
        " f.write(f\"{e[0]}|{e[1]}|{e[2]}\\n\")\n",
        "\n",
        "# Se revisa el contenido del archivo.\n",
        "\n",
        "print(\"\\n>> Contenido del archivo.\\n\")\n",
        "with open(\"agenda.csv\") as f:\n",
        " print(f.read())"
      ]
    }
  ]
}